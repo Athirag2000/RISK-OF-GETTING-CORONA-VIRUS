{
 "cells": [
  {
   "cell_type": "code",
   "execution_count": 1,
   "metadata": {},
   "outputs": [],
   "source": [
    "import pandas as pd\n",
    "import seaborn as sns\n",
    "from sklearn.model_selection import train_test_split\n",
    "from sklearn.preprocessing import LabelEncoder\n",
    "import matplotlib.pyplot as plt"
   ]
  },
  {
   "cell_type": "code",
   "execution_count": 2,
   "metadata": {},
   "outputs": [
    {
     "data": {
      "text/html": [
       "<div>\n",
       "<style scoped>\n",
       "    .dataframe tbody tr th:only-of-type {\n",
       "        vertical-align: middle;\n",
       "    }\n",
       "\n",
       "    .dataframe tbody tr th {\n",
       "        vertical-align: top;\n",
       "    }\n",
       "\n",
       "    .dataframe thead th {\n",
       "        text-align: right;\n",
       "    }\n",
       "</style>\n",
       "<table border=\"1\" class=\"dataframe\">\n",
       "  <thead>\n",
       "    <tr style=\"text-align: right;\">\n",
       "      <th></th>\n",
       "      <th>Age</th>\n",
       "      <th>Gender</th>\n",
       "      <th>BMI</th>\n",
       "      <th>Diabetes</th>\n",
       "      <th>Cardio_Vascular_Diseases</th>\n",
       "      <th>Sickle_cell_diesases</th>\n",
       "      <th>Immuno_deficiency_disease</th>\n",
       "      <th>Down_syndrome</th>\n",
       "      <th>Cancer</th>\n",
       "      <th>Chronic_Respiratory_disease</th>\n",
       "      <th>Hypertension</th>\n",
       "      <th>Vaccinated</th>\n",
       "      <th>Outcome</th>\n",
       "    </tr>\n",
       "  </thead>\n",
       "  <tbody>\n",
       "    <tr>\n",
       "      <th>0</th>\n",
       "      <td>50</td>\n",
       "      <td>Male</td>\n",
       "      <td>30.1</td>\n",
       "      <td>1</td>\n",
       "      <td>0</td>\n",
       "      <td>0</td>\n",
       "      <td>0</td>\n",
       "      <td>0</td>\n",
       "      <td>0</td>\n",
       "      <td>1</td>\n",
       "      <td>1</td>\n",
       "      <td>1</td>\n",
       "      <td>1</td>\n",
       "    </tr>\n",
       "    <tr>\n",
       "      <th>1</th>\n",
       "      <td>31</td>\n",
       "      <td>Male</td>\n",
       "      <td>26.6</td>\n",
       "      <td>1</td>\n",
       "      <td>1</td>\n",
       "      <td>0</td>\n",
       "      <td>0</td>\n",
       "      <td>0</td>\n",
       "      <td>0</td>\n",
       "      <td>1</td>\n",
       "      <td>1</td>\n",
       "      <td>1</td>\n",
       "      <td>1</td>\n",
       "    </tr>\n",
       "    <tr>\n",
       "      <th>2</th>\n",
       "      <td>32</td>\n",
       "      <td>Female</td>\n",
       "      <td>23.3</td>\n",
       "      <td>1</td>\n",
       "      <td>1</td>\n",
       "      <td>0</td>\n",
       "      <td>0</td>\n",
       "      <td>0</td>\n",
       "      <td>0</td>\n",
       "      <td>1</td>\n",
       "      <td>1</td>\n",
       "      <td>1</td>\n",
       "      <td>1</td>\n",
       "    </tr>\n",
       "    <tr>\n",
       "      <th>3</th>\n",
       "      <td>21</td>\n",
       "      <td>Female</td>\n",
       "      <td>28.1</td>\n",
       "      <td>1</td>\n",
       "      <td>1</td>\n",
       "      <td>0</td>\n",
       "      <td>0</td>\n",
       "      <td>0</td>\n",
       "      <td>0</td>\n",
       "      <td>1</td>\n",
       "      <td>1</td>\n",
       "      <td>1</td>\n",
       "      <td>1</td>\n",
       "    </tr>\n",
       "    <tr>\n",
       "      <th>4</th>\n",
       "      <td>33</td>\n",
       "      <td>Male</td>\n",
       "      <td>43.1</td>\n",
       "      <td>1</td>\n",
       "      <td>0</td>\n",
       "      <td>1</td>\n",
       "      <td>0</td>\n",
       "      <td>1</td>\n",
       "      <td>0</td>\n",
       "      <td>1</td>\n",
       "      <td>1</td>\n",
       "      <td>1</td>\n",
       "      <td>1</td>\n",
       "    </tr>\n",
       "  </tbody>\n",
       "</table>\n",
       "</div>"
      ],
      "text/plain": [
       "   Age  Gender   BMI  Diabetes  Cardio_Vascular_Diseases  \\\n",
       "0   50    Male  30.1         1                         0   \n",
       "1   31    Male  26.6         1                         1   \n",
       "2   32  Female  23.3         1                         1   \n",
       "3   21  Female  28.1         1                         1   \n",
       "4   33    Male  43.1         1                         0   \n",
       "\n",
       "   Sickle_cell_diesases  Immuno_deficiency_disease  Down_syndrome  Cancer  \\\n",
       "0                     0                          0              0       0   \n",
       "1                     0                          0              0       0   \n",
       "2                     0                          0              0       0   \n",
       "3                     0                          0              0       0   \n",
       "4                     1                          0              1       0   \n",
       "\n",
       "   Chronic_Respiratory_disease  Hypertension  Vaccinated  Outcome  \n",
       "0                            1             1           1        1  \n",
       "1                            1             1           1        1  \n",
       "2                            1             1           1        1  \n",
       "3                            1             1           1        1  \n",
       "4                            1             1           1        1  "
      ]
     },
     "execution_count": 2,
     "metadata": {},
     "output_type": "execute_result"
    }
   ],
   "source": [
    "df = pd.read_csv('project.csv')\n",
    "df.head()"
   ]
  },
  {
   "cell_type": "code",
   "execution_count": 3,
   "metadata": {},
   "outputs": [
    {
     "data": {
      "text/plain": [
       "Index(['Age', 'Gender', 'BMI', 'Diabetes', 'Cardio_Vascular_Diseases',\n",
       "       'Sickle_cell_diesases', 'Immuno_deficiency_disease', 'Down_syndrome',\n",
       "       'Cancer', 'Chronic_Respiratory_disease', 'Hypertension', 'Vaccinated',\n",
       "       'Outcome'],\n",
       "      dtype='object')"
      ]
     },
     "execution_count": 3,
     "metadata": {},
     "output_type": "execute_result"
    }
   ],
   "source": [
    "df.columns"
   ]
  },
  {
   "cell_type": "code",
   "execution_count": 4,
   "metadata": {},
   "outputs": [
    {
     "data": {
      "text/plain": [
       "Age                            False\n",
       "Gender                         False\n",
       "BMI                            False\n",
       "Diabetes                       False\n",
       "Cardio_Vascular_Diseases       False\n",
       "Sickle_cell_diesases           False\n",
       "Immuno_deficiency_disease      False\n",
       "Down_syndrome                  False\n",
       "Cancer                         False\n",
       "Chronic_Respiratory_disease    False\n",
       "Hypertension                   False\n",
       "Vaccinated                     False\n",
       "Outcome                        False\n",
       "dtype: bool"
      ]
     },
     "execution_count": 4,
     "metadata": {},
     "output_type": "execute_result"
    }
   ],
   "source": [
    "df.isnull().any()"
   ]
  },
  {
   "cell_type": "code",
   "execution_count": 5,
   "metadata": {},
   "outputs": [
    {
     "data": {
      "text/plain": [
       "Age                              int64\n",
       "Gender                          object\n",
       "BMI                            float64\n",
       "Diabetes                         int64\n",
       "Cardio_Vascular_Diseases         int64\n",
       "Sickle_cell_diesases             int64\n",
       "Immuno_deficiency_disease        int64\n",
       "Down_syndrome                    int64\n",
       "Cancer                           int64\n",
       "Chronic_Respiratory_disease      int64\n",
       "Hypertension                     int64\n",
       "Vaccinated                       int64\n",
       "Outcome                          int64\n",
       "dtype: object"
      ]
     },
     "execution_count": 5,
     "metadata": {},
     "output_type": "execute_result"
    }
   ],
   "source": [
    "df.dtypes"
   ]
  },
  {
   "cell_type": "code",
   "execution_count": 6,
   "metadata": {},
   "outputs": [
    {
     "name": "stdout",
     "output_type": "stream",
     "text": [
      "(999, 13)\n"
     ]
    }
   ],
   "source": [
    "print(df.shape)"
   ]
  },
  {
   "cell_type": "code",
   "execution_count": 7,
   "metadata": {},
   "outputs": [],
   "source": [
    "#Convert Categorical data to Numerical Values\n",
    "le = LabelEncoder()\n",
    "df.Gender= le.fit_transform(df.Gender.values)"
   ]
  },
  {
   "cell_type": "code",
   "execution_count": 8,
   "metadata": {},
   "outputs": [
    {
     "data": {
      "text/html": [
       "<div>\n",
       "<style scoped>\n",
       "    .dataframe tbody tr th:only-of-type {\n",
       "        vertical-align: middle;\n",
       "    }\n",
       "\n",
       "    .dataframe tbody tr th {\n",
       "        vertical-align: top;\n",
       "    }\n",
       "\n",
       "    .dataframe thead th {\n",
       "        text-align: right;\n",
       "    }\n",
       "</style>\n",
       "<table border=\"1\" class=\"dataframe\">\n",
       "  <thead>\n",
       "    <tr style=\"text-align: right;\">\n",
       "      <th></th>\n",
       "      <th>Age</th>\n",
       "      <th>Gender</th>\n",
       "      <th>BMI</th>\n",
       "      <th>Diabetes</th>\n",
       "      <th>Cardio_Vascular_Diseases</th>\n",
       "      <th>Sickle_cell_diesases</th>\n",
       "      <th>Immuno_deficiency_disease</th>\n",
       "      <th>Down_syndrome</th>\n",
       "      <th>Cancer</th>\n",
       "      <th>Chronic_Respiratory_disease</th>\n",
       "      <th>Hypertension</th>\n",
       "      <th>Vaccinated</th>\n",
       "      <th>Outcome</th>\n",
       "    </tr>\n",
       "  </thead>\n",
       "  <tbody>\n",
       "    <tr>\n",
       "      <th>0</th>\n",
       "      <td>50</td>\n",
       "      <td>1</td>\n",
       "      <td>30.1</td>\n",
       "      <td>1</td>\n",
       "      <td>0</td>\n",
       "      <td>0</td>\n",
       "      <td>0</td>\n",
       "      <td>0</td>\n",
       "      <td>0</td>\n",
       "      <td>1</td>\n",
       "      <td>1</td>\n",
       "      <td>1</td>\n",
       "      <td>1</td>\n",
       "    </tr>\n",
       "    <tr>\n",
       "      <th>1</th>\n",
       "      <td>31</td>\n",
       "      <td>1</td>\n",
       "      <td>26.6</td>\n",
       "      <td>1</td>\n",
       "      <td>1</td>\n",
       "      <td>0</td>\n",
       "      <td>0</td>\n",
       "      <td>0</td>\n",
       "      <td>0</td>\n",
       "      <td>1</td>\n",
       "      <td>1</td>\n",
       "      <td>1</td>\n",
       "      <td>1</td>\n",
       "    </tr>\n",
       "    <tr>\n",
       "      <th>2</th>\n",
       "      <td>32</td>\n",
       "      <td>0</td>\n",
       "      <td>23.3</td>\n",
       "      <td>1</td>\n",
       "      <td>1</td>\n",
       "      <td>0</td>\n",
       "      <td>0</td>\n",
       "      <td>0</td>\n",
       "      <td>0</td>\n",
       "      <td>1</td>\n",
       "      <td>1</td>\n",
       "      <td>1</td>\n",
       "      <td>1</td>\n",
       "    </tr>\n",
       "    <tr>\n",
       "      <th>3</th>\n",
       "      <td>21</td>\n",
       "      <td>0</td>\n",
       "      <td>28.1</td>\n",
       "      <td>1</td>\n",
       "      <td>1</td>\n",
       "      <td>0</td>\n",
       "      <td>0</td>\n",
       "      <td>0</td>\n",
       "      <td>0</td>\n",
       "      <td>1</td>\n",
       "      <td>1</td>\n",
       "      <td>1</td>\n",
       "      <td>1</td>\n",
       "    </tr>\n",
       "    <tr>\n",
       "      <th>4</th>\n",
       "      <td>33</td>\n",
       "      <td>1</td>\n",
       "      <td>43.1</td>\n",
       "      <td>1</td>\n",
       "      <td>0</td>\n",
       "      <td>1</td>\n",
       "      <td>0</td>\n",
       "      <td>1</td>\n",
       "      <td>0</td>\n",
       "      <td>1</td>\n",
       "      <td>1</td>\n",
       "      <td>1</td>\n",
       "      <td>1</td>\n",
       "    </tr>\n",
       "  </tbody>\n",
       "</table>\n",
       "</div>"
      ],
      "text/plain": [
       "   Age  Gender   BMI  Diabetes  Cardio_Vascular_Diseases  \\\n",
       "0   50       1  30.1         1                         0   \n",
       "1   31       1  26.6         1                         1   \n",
       "2   32       0  23.3         1                         1   \n",
       "3   21       0  28.1         1                         1   \n",
       "4   33       1  43.1         1                         0   \n",
       "\n",
       "   Sickle_cell_diesases  Immuno_deficiency_disease  Down_syndrome  Cancer  \\\n",
       "0                     0                          0              0       0   \n",
       "1                     0                          0              0       0   \n",
       "2                     0                          0              0       0   \n",
       "3                     0                          0              0       0   \n",
       "4                     1                          0              1       0   \n",
       "\n",
       "   Chronic_Respiratory_disease  Hypertension  Vaccinated  Outcome  \n",
       "0                            1             1           1        1  \n",
       "1                            1             1           1        1  \n",
       "2                            1             1           1        1  \n",
       "3                            1             1           1        1  \n",
       "4                            1             1           1        1  "
      ]
     },
     "execution_count": 8,
     "metadata": {},
     "output_type": "execute_result"
    }
   ],
   "source": [
    "df.head()"
   ]
  },
  {
   "cell_type": "code",
   "execution_count": 9,
   "metadata": {},
   "outputs": [
    {
     "name": "stdout",
     "output_type": "stream",
     "text": [
      "              Age      Gender         BMI    Diabetes  \\\n",
      "count  999.000000  999.000000  999.000000  999.000000   \n",
      "mean    33.076076    0.496496   31.943844    0.660661   \n",
      "std     11.366381    0.500238    7.459538    0.473722   \n",
      "min     18.000000    0.000000    0.000000    0.000000   \n",
      "25%     24.000000    0.000000   27.100000    0.000000   \n",
      "50%     30.000000    0.000000   32.000000    1.000000   \n",
      "75%     40.000000    1.000000   36.500000    1.000000   \n",
      "max     90.000000    1.000000   67.100000    1.000000   \n",
      "\n",
      "       Cardio_Vascular_Diseases  Sickle_cell_diesases  \\\n",
      "count                999.000000            999.000000   \n",
      "mean                   0.259259              0.075075   \n",
      "std                    0.438448              0.263644   \n",
      "min                    0.000000              0.000000   \n",
      "25%                    0.000000              0.000000   \n",
      "50%                    0.000000              0.000000   \n",
      "75%                    1.000000              0.000000   \n",
      "max                    1.000000              1.000000   \n",
      "\n",
      "       Immuno_deficiency_disease  Down_syndrome      Cancer  \\\n",
      "count                 999.000000     999.000000  999.000000   \n",
      "mean                    0.012012       0.023023    0.049049   \n",
      "std                     0.108994       0.150052    0.216079   \n",
      "min                     0.000000       0.000000    0.000000   \n",
      "25%                     0.000000       0.000000    0.000000   \n",
      "50%                     0.000000       0.000000    0.000000   \n",
      "75%                     0.000000       0.000000    0.000000   \n",
      "max                     1.000000       1.000000    1.000000   \n",
      "\n",
      "       Chronic_Respiratory_disease  Hypertension  Vaccinated     Outcome  \n",
      "count                   999.000000    999.000000  999.000000  999.000000  \n",
      "mean                      0.385385      0.566567    0.553554    0.179179  \n",
      "std                       0.486930      0.495797    0.497373    0.383694  \n",
      "min                       0.000000      0.000000    0.000000    0.000000  \n",
      "25%                       0.000000      0.000000    0.000000    0.000000  \n",
      "50%                       0.000000      1.000000    1.000000    0.000000  \n",
      "75%                       1.000000      1.000000    1.000000    0.000000  \n",
      "max                       1.000000      1.000000    1.000000    1.000000  \n"
     ]
    }
   ],
   "source": [
    "print(df.describe())"
   ]
  },
  {
   "cell_type": "code",
   "execution_count": 10,
   "metadata": {},
   "outputs": [
    {
     "name": "stdout",
     "output_type": "stream",
     "text": [
      "<class 'pandas.core.frame.DataFrame'>\n",
      "RangeIndex: 999 entries, 0 to 998\n",
      "Data columns (total 13 columns):\n",
      " #   Column                       Non-Null Count  Dtype  \n",
      "---  ------                       --------------  -----  \n",
      " 0   Age                          999 non-null    int64  \n",
      " 1   Gender                       999 non-null    int64  \n",
      " 2   BMI                          999 non-null    float64\n",
      " 3   Diabetes                     999 non-null    int64  \n",
      " 4   Cardio_Vascular_Diseases     999 non-null    int64  \n",
      " 5   Sickle_cell_diesases         999 non-null    int64  \n",
      " 6   Immuno_deficiency_disease    999 non-null    int64  \n",
      " 7   Down_syndrome                999 non-null    int64  \n",
      " 8   Cancer                       999 non-null    int64  \n",
      " 9   Chronic_Respiratory_disease  999 non-null    int64  \n",
      " 10  Hypertension                 999 non-null    int64  \n",
      " 11  Vaccinated                   999 non-null    int64  \n",
      " 12  Outcome                      999 non-null    int64  \n",
      "dtypes: float64(1), int64(12)\n",
      "memory usage: 101.6 KB\n"
     ]
    }
   ],
   "source": [
    "df.info()"
   ]
  },
  {
   "cell_type": "code",
   "execution_count": 11,
   "metadata": {},
   "outputs": [
    {
     "data": {
      "text/plain": [
       "<AxesSubplot:ylabel='Outcome'>"
      ]
     },
     "execution_count": 11,
     "metadata": {},
     "output_type": "execute_result"
    },
    {
     "data": {
      "image/png": "[encoded data removed]",
      "text/plain": [
       "<Figure size 576x576 with 1 Axes>"
      ]
     },
     "metadata": {},
     "output_type": "display_data"
    }
   ],
   "source": [
    "df.Outcome.value_counts().plot(kind=\"pie\", autopct='%.1f%%', figsize=(8,8))"
   ]
  },
  {
   "cell_type": "code",
   "execution_count": 12,
   "metadata": {},
   "outputs": [
    {
     "data": {
      "image/png": "[encoded data removed]",
      "text/plain": [
       "<Figure size 504x288 with 2 Axes>"
      ]
     },
     "metadata": {
      "needs_background": "light"
     },
     "output_type": "display_data"
    }
   ],
   "source": [
    "plt.figure(figsize=(7,4))\n",
    "sns.heatmap(df.corr(), annot=True, cmap='cubehelix_r')\n",
    "plt.show()"
   ]
  },
  {
   "cell_type": "code",
   "execution_count": 13,
   "metadata": {},
   "outputs": [],
   "source": [
    "X = df.drop('Outcome',axis=1)\n",
    "y = df['Outcome']"
   ]
  },
  {
   "cell_type": "code",
   "execution_count": 14,
   "metadata": {},
   "outputs": [
    {
     "data": {
      "text/html": [
       "<div>\n",
       "<style scoped>\n",
       "    .dataframe tbody tr th:only-of-type {\n",
       "        vertical-align: middle;\n",
       "    }\n",
       "\n",
       "    .dataframe tbody tr th {\n",
       "        vertical-align: top;\n",
       "    }\n",
       "\n",
       "    .dataframe thead th {\n",
       "        text-align: right;\n",
       "    }\n",
       "</style>\n",
       "<table border=\"1\" class=\"dataframe\">\n",
       "  <thead>\n",
       "    <tr style=\"text-align: right;\">\n",
       "      <th></th>\n",
       "      <th>Age</th>\n",
       "      <th>Gender</th>\n",
       "      <th>BMI</th>\n",
       "      <th>Diabetes</th>\n",
       "      <th>Cardio_Vascular_Diseases</th>\n",
       "      <th>Sickle_cell_diesases</th>\n",
       "      <th>Immuno_deficiency_disease</th>\n",
       "      <th>Down_syndrome</th>\n",
       "      <th>Cancer</th>\n",
       "      <th>Chronic_Respiratory_disease</th>\n",
       "      <th>Hypertension</th>\n",
       "      <th>Vaccinated</th>\n",
       "    </tr>\n",
       "  </thead>\n",
       "  <tbody>\n",
       "    <tr>\n",
       "      <th>0</th>\n",
       "      <td>50</td>\n",
       "      <td>1</td>\n",
       "      <td>30.1</td>\n",
       "      <td>1</td>\n",
       "      <td>0</td>\n",
       "      <td>0</td>\n",
       "      <td>0</td>\n",
       "      <td>0</td>\n",
       "      <td>0</td>\n",
       "      <td>1</td>\n",
       "      <td>1</td>\n",
       "      <td>1</td>\n",
       "    </tr>\n",
       "    <tr>\n",
       "      <th>1</th>\n",
       "      <td>31</td>\n",
       "      <td>1</td>\n",
       "      <td>26.6</td>\n",
       "      <td>1</td>\n",
       "      <td>1</td>\n",
       "      <td>0</td>\n",
       "      <td>0</td>\n",
       "      <td>0</td>\n",
       "      <td>0</td>\n",
       "      <td>1</td>\n",
       "      <td>1</td>\n",
       "      <td>1</td>\n",
       "    </tr>\n",
       "    <tr>\n",
       "      <th>2</th>\n",
       "      <td>32</td>\n",
       "      <td>0</td>\n",
       "      <td>23.3</td>\n",
       "      <td>1</td>\n",
       "      <td>1</td>\n",
       "      <td>0</td>\n",
       "      <td>0</td>\n",
       "      <td>0</td>\n",
       "      <td>0</td>\n",
       "      <td>1</td>\n",
       "      <td>1</td>\n",
       "      <td>1</td>\n",
       "    </tr>\n",
       "    <tr>\n",
       "      <th>3</th>\n",
       "      <td>21</td>\n",
       "      <td>0</td>\n",
       "      <td>28.1</td>\n",
       "      <td>1</td>\n",
       "      <td>1</td>\n",
       "      <td>0</td>\n",
       "      <td>0</td>\n",
       "      <td>0</td>\n",
       "      <td>0</td>\n",
       "      <td>1</td>\n",
       "      <td>1</td>\n",
       "      <td>1</td>\n",
       "    </tr>\n",
       "    <tr>\n",
       "      <th>4</th>\n",
       "      <td>33</td>\n",
       "      <td>1</td>\n",
       "      <td>43.1</td>\n",
       "      <td>1</td>\n",
       "      <td>0</td>\n",
       "      <td>1</td>\n",
       "      <td>0</td>\n",
       "      <td>1</td>\n",
       "      <td>0</td>\n",
       "      <td>1</td>\n",
       "      <td>1</td>\n",
       "      <td>1</td>\n",
       "    </tr>\n",
       "    <tr>\n",
       "      <th>...</th>\n",
       "      <td>...</td>\n",
       "      <td>...</td>\n",
       "      <td>...</td>\n",
       "      <td>...</td>\n",
       "      <td>...</td>\n",
       "      <td>...</td>\n",
       "      <td>...</td>\n",
       "      <td>...</td>\n",
       "      <td>...</td>\n",
       "      <td>...</td>\n",
       "      <td>...</td>\n",
       "      <td>...</td>\n",
       "    </tr>\n",
       "    <tr>\n",
       "      <th>994</th>\n",
       "      <td>37</td>\n",
       "      <td>0</td>\n",
       "      <td>23.4</td>\n",
       "      <td>0</td>\n",
       "      <td>0</td>\n",
       "      <td>0</td>\n",
       "      <td>0</td>\n",
       "      <td>0</td>\n",
       "      <td>0</td>\n",
       "      <td>0</td>\n",
       "      <td>1</td>\n",
       "      <td>1</td>\n",
       "    </tr>\n",
       "    <tr>\n",
       "      <th>995</th>\n",
       "      <td>36</td>\n",
       "      <td>1</td>\n",
       "      <td>37.8</td>\n",
       "      <td>0</td>\n",
       "      <td>0</td>\n",
       "      <td>0</td>\n",
       "      <td>0</td>\n",
       "      <td>0</td>\n",
       "      <td>0</td>\n",
       "      <td>0</td>\n",
       "      <td>1</td>\n",
       "      <td>1</td>\n",
       "    </tr>\n",
       "    <tr>\n",
       "      <th>996</th>\n",
       "      <td>56</td>\n",
       "      <td>0</td>\n",
       "      <td>28.3</td>\n",
       "      <td>0</td>\n",
       "      <td>0</td>\n",
       "      <td>0</td>\n",
       "      <td>0</td>\n",
       "      <td>0</td>\n",
       "      <td>0</td>\n",
       "      <td>0</td>\n",
       "      <td>1</td>\n",
       "      <td>0</td>\n",
       "    </tr>\n",
       "    <tr>\n",
       "      <th>997</th>\n",
       "      <td>40</td>\n",
       "      <td>0</td>\n",
       "      <td>26.4</td>\n",
       "      <td>0</td>\n",
       "      <td>0</td>\n",
       "      <td>0</td>\n",
       "      <td>0</td>\n",
       "      <td>0</td>\n",
       "      <td>0</td>\n",
       "      <td>0</td>\n",
       "      <td>1</td>\n",
       "      <td>0</td>\n",
       "    </tr>\n",
       "    <tr>\n",
       "      <th>998</th>\n",
       "      <td>90</td>\n",
       "      <td>1</td>\n",
       "      <td>25.2</td>\n",
       "      <td>0</td>\n",
       "      <td>0</td>\n",
       "      <td>1</td>\n",
       "      <td>1</td>\n",
       "      <td>1</td>\n",
       "      <td>1</td>\n",
       "      <td>1</td>\n",
       "      <td>0</td>\n",
       "      <td>1</td>\n",
       "    </tr>\n",
       "  </tbody>\n",
       "</table>\n",
       "<p>999 rows × 12 columns</p>\n",
       "</div>"
      ],
      "text/plain": [
       "     Age  Gender   BMI  Diabetes  Cardio_Vascular_Diseases  \\\n",
       "0     50       1  30.1         1                         0   \n",
       "1     31       1  26.6         1                         1   \n",
       "2     32       0  23.3         1                         1   \n",
       "3     21       0  28.1         1                         1   \n",
       "4     33       1  43.1         1                         0   \n",
       "..   ...     ...   ...       ...                       ...   \n",
       "994   37       0  23.4         0                         0   \n",
       "995   36       1  37.8         0                         0   \n",
       "996   56       0  28.3         0                         0   \n",
       "997   40       0  26.4         0                         0   \n",
       "998   90       1  25.2         0                         0   \n",
       "\n",
       "     Sickle_cell_diesases  Immuno_deficiency_disease  Down_syndrome  Cancer  \\\n",
       "0                       0                          0              0       0   \n",
       "1                       0                          0              0       0   \n",
       "2                       0                          0              0       0   \n",
       "3                       0                          0              0       0   \n",
       "4                       1                          0              1       0   \n",
       "..                    ...                        ...            ...     ...   \n",
       "994                     0                          0              0       0   \n",
       "995                     0                          0              0       0   \n",
       "996                     0                          0              0       0   \n",
       "997                     0                          0              0       0   \n",
       "998                     1                          1              1       1   \n",
       "\n",
       "     Chronic_Respiratory_disease  Hypertension  Vaccinated  \n",
       "0                              1             1           1  \n",
       "1                              1             1           1  \n",
       "2                              1             1           1  \n",
       "3                              1             1           1  \n",
       "4                              1             1           1  \n",
       "..                           ...           ...         ...  \n",
       "994                            0             1           1  \n",
       "995                            0             1           1  \n",
       "996                            0             1           0  \n",
       "997                            0             1           0  \n",
       "998                            1             0           1  \n",
       "\n",
       "[999 rows x 12 columns]"
      ]
     },
     "execution_count": 14,
     "metadata": {},
     "output_type": "execute_result"
    }
   ],
   "source": [
    "X"
   ]
  },
  {
   "cell_type": "code",
   "execution_count": 15,
   "metadata": {},
   "outputs": [],
   "source": [
    "X_train, X_test, y_train, y_test = train_test_split(X, y, test_size=0.10,random_state=20)"
   ]
  },
  {
   "cell_type": "code",
   "execution_count": 16,
   "metadata": {},
   "outputs": [],
   "source": [
    "from sklearn.tree import DecisionTreeClassifier "
   ]
  },
  {
   "cell_type": "code",
   "execution_count": 17,
   "metadata": {},
   "outputs": [],
   "source": [
    "dtree = DecisionTreeClassifier()"
   ]
  },
  {
   "cell_type": "code",
   "execution_count": 18,
   "metadata": {},
   "outputs": [
    {
     "data": {
      "text/plain": [
       "DecisionTreeClassifier()"
      ]
     },
     "execution_count": 18,
     "metadata": {},
     "output_type": "execute_result"
    }
   ],
   "source": [
    "dtree.fit(X_train,y_train)"
   ]
  },
  {
   "cell_type": "code",
   "execution_count": 19,
   "metadata": {},
   "outputs": [
    {
     "data": {
      "text/plain": [
       "array([0, 0, 1, 0, 0, 0, 0, 0, 1, 0, 0, 1, 0, 0, 0, 1, 0, 1, 0, 0, 0, 0,\n",
       "       0, 0, 0, 0, 0, 0, 0, 1, 0, 1, 0, 0, 0, 0, 1, 0, 0, 0, 0, 0, 1, 0,\n",
       "       0, 1, 1, 0, 0, 1, 0, 0, 1, 1, 1, 0, 0, 0, 0, 0, 0, 0, 0, 0, 0, 0,\n",
       "       0, 0, 0, 0, 0, 0, 0, 0, 0, 1, 0, 0, 0, 0, 1, 0, 0, 0, 0, 1, 0, 1,\n",
       "       0, 0, 0, 0, 0, 0, 0, 0, 0, 0, 0, 0])"
      ]
     },
     "execution_count": 19,
     "metadata": {},
     "output_type": "execute_result"
    }
   ],
   "source": [
    "\n",
    "predictions = dtree.predict(X_test)\n",
    "predictions"
   ]
  },
  {
   "cell_type": "code",
   "execution_count": 20,
   "metadata": {},
   "outputs": [],
   "source": [
    "from sklearn.metrics import classification_report,confusion_matrix"
   ]
  },
  {
   "cell_type": "code",
   "execution_count": 21,
   "metadata": {},
   "outputs": [
    {
     "name": "stdout",
     "output_type": "stream",
     "text": [
      "              precision    recall  f1-score   support\n",
      "\n",
      "           0       1.00      0.94      0.97        86\n",
      "           1       0.74      1.00      0.85        14\n",
      "\n",
      "    accuracy                           0.95       100\n",
      "   macro avg       0.87      0.97      0.91       100\n",
      "weighted avg       0.96      0.95      0.95       100\n",
      "\n"
     ]
    }
   ],
   "source": [
    "print(classification_report(y_test,predictions))"
   ]
  },
  {
   "cell_type": "code",
   "execution_count": 22,
   "metadata": {},
   "outputs": [
    {
     "name": "stdout",
     "output_type": "stream",
     "text": [
      "[[81  5]\n",
      " [ 0 14]]\n"
     ]
    }
   ],
   "source": [
    "print(confusion_matrix(y_test,predictions))"
   ]
  },
  {
   "cell_type": "code",
   "execution_count": 23,
   "metadata": {},
   "outputs": [],
   "source": [
    "#Saving the Model\n",
    "import pickle\n",
    "pickle_file= open(\"decision_tree.pkl\", \"wb\") \n",
    "pickle.dump(dtree, pickle_file) \n",
    "pickle_file.close()"
   ]
  },
  {
   "cell_type": "code",
   "execution_count": null,
   "metadata": {},
   "outputs": [],
   "source": []
  }
 ],
 "metadata": {
  "kernelspec": {
   "display_name": "Python 3",
   "language": "python",
   "name": "python3"
  },
  "language_info": {
   "codemirror_mode": {
    "name": "ipython",
    "version": 3
   },
   "file_extension": ".py",
   "mimetype": "text/x-python",
   "name": "python",
   "nbconvert_exporter": "python",
   "pygments_lexer": "ipython3",
   "version": "3.8.10"
  }
 },
 "nbformat": 4,
 "nbformat_minor": 4
}
